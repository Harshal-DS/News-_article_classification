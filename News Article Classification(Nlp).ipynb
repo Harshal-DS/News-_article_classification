{
 "cells": [
  {
   "cell_type": "markdown",
   "id": "77cc784f-2644-48b5-999e-3c17d949f556",
   "metadata": {},
   "source": [
    "# NLP Project : News Article Classification"
   ]
  },
  {
   "cell_type": "markdown",
   "id": "8224a18b-a151-484e-afdb-722352ecdfdd",
   "metadata": {},
   "source": [
    "## **Objective**\n",
    " build classification model that can automatically\n",
    " categorize news articles into different predefined categories"
   ]
  },
  {
   "cell_type": "markdown",
   "id": "3fac8a40-566f-45c7-80e6-12bc408a6edc",
   "metadata": {},
   "source": [
    "##  Installing and Importing library"
   ]
  },
  {
   "cell_type": "code",
   "execution_count": 3,
   "id": "091c81ad-f655-4a4c-8454-22fab9b64fa4",
   "metadata": {},
   "outputs": [
    {
     "name": "stdout",
     "output_type": "stream",
     "text": [
      "C:\\Users\\swapn\\miniconda3\\envs\\tf_env\\python.exe\n"
     ]
    }
   ],
   "source": [
    "import sys\n",
    "print(sys.executable)\n"
   ]
  },
  {
   "cell_type": "code",
   "execution_count": 4,
   "id": "185aca9b-21c4-4fa6-a2cd-5185a8489a04",
   "metadata": {},
   "outputs": [
    {
     "name": "stdout",
     "output_type": "stream",
     "text": [
      "Requirement already satisfied: nltk in c:\\users\\swapn\\miniconda3\\envs\\tf_env\\lib\\site-packages (3.9.1)\n",
      "Requirement already satisfied: click in c:\\users\\swapn\\miniconda3\\envs\\tf_env\\lib\\site-packages (from nltk) (8.2.1)\n",
      "Requirement already satisfied: joblib in c:\\users\\swapn\\miniconda3\\envs\\tf_env\\lib\\site-packages (from nltk) (1.5.1)\n",
      "Requirement already satisfied: regex>=2021.8.3 in c:\\users\\swapn\\miniconda3\\envs\\tf_env\\lib\\site-packages (from nltk) (2024.11.6)\n",
      "Requirement already satisfied: tqdm in c:\\users\\swapn\\miniconda3\\envs\\tf_env\\lib\\site-packages (from nltk) (4.67.1)\n",
      "Requirement already satisfied: colorama in c:\\users\\swapn\\miniconda3\\envs\\tf_env\\lib\\site-packages (from click->nltk) (0.4.6)\n"
     ]
    }
   ],
   "source": [
    "!{sys.executable} -m pip install nltk\n"
   ]
  },
  {
   "cell_type": "code",
   "execution_count": 5,
   "id": "a44b46e6-854c-47b8-87ae-c7f5679203bf",
   "metadata": {},
   "outputs": [
    {
     "name": "stdout",
     "output_type": "stream",
     "text": [
      "Requirement already satisfied: pandas in c:\\users\\swapn\\miniconda3\\envs\\tf_env\\lib\\site-packages (2.3.1)\n",
      "Requirement already satisfied: numpy>=1.22.4 in c:\\users\\swapn\\miniconda3\\envs\\tf_env\\lib\\site-packages (from pandas) (2.1.3)\n",
      "Requirement already satisfied: python-dateutil>=2.8.2 in c:\\users\\swapn\\miniconda3\\envs\\tf_env\\lib\\site-packages (from pandas) (2.9.0.post0)\n",
      "Requirement already satisfied: pytz>=2020.1 in c:\\users\\swapn\\miniconda3\\envs\\tf_env\\lib\\site-packages (from pandas) (2025.2)\n",
      "Requirement already satisfied: tzdata>=2022.7 in c:\\users\\swapn\\miniconda3\\envs\\tf_env\\lib\\site-packages (from pandas) (2025.2)\n",
      "Requirement already satisfied: six>=1.5 in c:\\users\\swapn\\miniconda3\\envs\\tf_env\\lib\\site-packages (from python-dateutil>=2.8.2->pandas) (1.17.0)\n",
      "Requirement already satisfied: numpy in c:\\users\\swapn\\miniconda3\\envs\\tf_env\\lib\\site-packages (2.1.3)\n"
     ]
    }
   ],
   "source": [
    "! pip install pandas\n",
    "! pip install numpy"
   ]
  },
  {
   "cell_type": "code",
   "execution_count": 6,
   "id": "a60c73b8-cdf6-42f4-b8ed-91c25fc69ba5",
   "metadata": {},
   "outputs": [
    {
     "name": "stdout",
     "output_type": "stream",
     "text": [
      "Requirement already satisfied: scikit-learn in c:\\users\\swapn\\miniconda3\\envs\\tf_env\\lib\\site-packages (1.7.0)\n",
      "Requirement already satisfied: numpy>=1.22.0 in c:\\users\\swapn\\miniconda3\\envs\\tf_env\\lib\\site-packages (from scikit-learn) (2.1.3)\n",
      "Requirement already satisfied: scipy>=1.8.0 in c:\\users\\swapn\\miniconda3\\envs\\tf_env\\lib\\site-packages (from scikit-learn) (1.15.3)\n",
      "Requirement already satisfied: joblib>=1.2.0 in c:\\users\\swapn\\miniconda3\\envs\\tf_env\\lib\\site-packages (from scikit-learn) (1.5.1)\n",
      "Requirement already satisfied: threadpoolctl>=3.1.0 in c:\\users\\swapn\\miniconda3\\envs\\tf_env\\lib\\site-packages (from scikit-learn) (3.6.0)\n"
     ]
    }
   ],
   "source": [
    "    !pip install scikit-learn"
   ]
  },
  {
   "cell_type": "code",
   "execution_count": 7,
   "id": "ceaa2331-1d5e-4e55-a6ce-c8717719074e",
   "metadata": {},
   "outputs": [
    {
     "name": "stdout",
     "output_type": "stream",
     "text": [
      "Requirement already satisfied: matplotlib in c:\\users\\swapn\\miniconda3\\envs\\tf_env\\lib\\site-packages (3.10.3)\n",
      "Requirement already satisfied: contourpy>=1.0.1 in c:\\users\\swapn\\miniconda3\\envs\\tf_env\\lib\\site-packages (from matplotlib) (1.3.2)\n",
      "Requirement already satisfied: cycler>=0.10 in c:\\users\\swapn\\miniconda3\\envs\\tf_env\\lib\\site-packages (from matplotlib) (0.12.1)\n",
      "Requirement already satisfied: fonttools>=4.22.0 in c:\\users\\swapn\\miniconda3\\envs\\tf_env\\lib\\site-packages (from matplotlib) (4.58.5)\n",
      "Requirement already satisfied: kiwisolver>=1.3.1 in c:\\users\\swapn\\miniconda3\\envs\\tf_env\\lib\\site-packages (from matplotlib) (1.4.8)\n",
      "Requirement already satisfied: numpy>=1.23 in c:\\users\\swapn\\miniconda3\\envs\\tf_env\\lib\\site-packages (from matplotlib) (2.1.3)\n",
      "Requirement already satisfied: packaging>=20.0 in c:\\users\\swapn\\miniconda3\\envs\\tf_env\\lib\\site-packages (from matplotlib) (25.0)\n",
      "Requirement already satisfied: pillow>=8 in c:\\users\\swapn\\miniconda3\\envs\\tf_env\\lib\\site-packages (from matplotlib) (11.3.0)\n",
      "Requirement already satisfied: pyparsing>=2.3.1 in c:\\users\\swapn\\miniconda3\\envs\\tf_env\\lib\\site-packages (from matplotlib) (3.2.3)\n",
      "Requirement already satisfied: python-dateutil>=2.7 in c:\\users\\swapn\\miniconda3\\envs\\tf_env\\lib\\site-packages (from matplotlib) (2.9.0.post0)\n",
      "Requirement already satisfied: six>=1.5 in c:\\users\\swapn\\miniconda3\\envs\\tf_env\\lib\\site-packages (from python-dateutil>=2.7->matplotlib) (1.17.0)\n",
      "Requirement already satisfied: seaborn in c:\\users\\swapn\\miniconda3\\envs\\tf_env\\lib\\site-packages (0.13.2)\n",
      "Requirement already satisfied: numpy!=1.24.0,>=1.20 in c:\\users\\swapn\\miniconda3\\envs\\tf_env\\lib\\site-packages (from seaborn) (2.1.3)\n",
      "Requirement already satisfied: pandas>=1.2 in c:\\users\\swapn\\miniconda3\\envs\\tf_env\\lib\\site-packages (from seaborn) (2.3.1)\n",
      "Requirement already satisfied: matplotlib!=3.6.1,>=3.4 in c:\\users\\swapn\\miniconda3\\envs\\tf_env\\lib\\site-packages (from seaborn) (3.10.3)\n",
      "Requirement already satisfied: contourpy>=1.0.1 in c:\\users\\swapn\\miniconda3\\envs\\tf_env\\lib\\site-packages (from matplotlib!=3.6.1,>=3.4->seaborn) (1.3.2)\n",
      "Requirement already satisfied: cycler>=0.10 in c:\\users\\swapn\\miniconda3\\envs\\tf_env\\lib\\site-packages (from matplotlib!=3.6.1,>=3.4->seaborn) (0.12.1)\n",
      "Requirement already satisfied: fonttools>=4.22.0 in c:\\users\\swapn\\miniconda3\\envs\\tf_env\\lib\\site-packages (from matplotlib!=3.6.1,>=3.4->seaborn) (4.58.5)\n",
      "Requirement already satisfied: kiwisolver>=1.3.1 in c:\\users\\swapn\\miniconda3\\envs\\tf_env\\lib\\site-packages (from matplotlib!=3.6.1,>=3.4->seaborn) (1.4.8)\n",
      "Requirement already satisfied: packaging>=20.0 in c:\\users\\swapn\\miniconda3\\envs\\tf_env\\lib\\site-packages (from matplotlib!=3.6.1,>=3.4->seaborn) (25.0)\n",
      "Requirement already satisfied: pillow>=8 in c:\\users\\swapn\\miniconda3\\envs\\tf_env\\lib\\site-packages (from matplotlib!=3.6.1,>=3.4->seaborn) (11.3.0)\n",
      "Requirement already satisfied: pyparsing>=2.3.1 in c:\\users\\swapn\\miniconda3\\envs\\tf_env\\lib\\site-packages (from matplotlib!=3.6.1,>=3.4->seaborn) (3.2.3)\n",
      "Requirement already satisfied: python-dateutil>=2.7 in c:\\users\\swapn\\miniconda3\\envs\\tf_env\\lib\\site-packages (from matplotlib!=3.6.1,>=3.4->seaborn) (2.9.0.post0)\n",
      "Requirement already satisfied: pytz>=2020.1 in c:\\users\\swapn\\miniconda3\\envs\\tf_env\\lib\\site-packages (from pandas>=1.2->seaborn) (2025.2)\n",
      "Requirement already satisfied: tzdata>=2022.7 in c:\\users\\swapn\\miniconda3\\envs\\tf_env\\lib\\site-packages (from pandas>=1.2->seaborn) (2025.2)\n",
      "Requirement already satisfied: six>=1.5 in c:\\users\\swapn\\miniconda3\\envs\\tf_env\\lib\\site-packages (from python-dateutil>=2.7->matplotlib!=3.6.1,>=3.4->seaborn) (1.17.0)\n"
     ]
    }
   ],
   "source": [
    "   ! pip install matplotlib\n",
    "   ! pip install seaborn"
   ]
  },
  {
   "cell_type": "code",
   "execution_count": 8,
   "id": "06700ccf-bc46-4798-8120-fa5b38e7a5c1",
   "metadata": {},
   "outputs": [],
   "source": [
    "# Data Handling\n",
    "import pandas as pd\n",
    "import numpy as np\n",
    "\n",
    "# Text Preprocessing\n",
    "import re\n",
    "import string\n",
    "\n",
    "# NLP\n",
    "import nltk\n",
    "from nltk.corpus import stopwords\n",
    "from nltk.stem import PorterStemmer\n",
    "\n",
    "# ML + Feature Extraction\n",
    "from sklearn.feature_extraction.text import TfidfVectorizer\n",
    "from sklearn.model_selection import train_test_split\n",
    "from sklearn.linear_model import LogisticRegression\n",
    "from sklearn.naive_bayes import MultinomialNB\n",
    "from sklearn.svm import SVC\n",
    "from sklearn.metrics import classification_report, confusion_matrix, accuracy_score\n",
    "\n",
    "# Visualization\n",
    "import matplotlib.pyplot as plt\n",
    "import seaborn as sns\n",
    "\n",
    "# Turn off warnings (optional)\n",
    "import warnings\n",
    "warnings.filterwarnings(\"ignore\")\n"
   ]
  },
  {
   "cell_type": "code",
   "execution_count": 9,
   "id": "a30c4ade-89c7-4df5-9bda-e508d232e5d3",
   "metadata": {},
   "outputs": [
    {
     "name": "stderr",
     "output_type": "stream",
     "text": [
      "[nltk_data] Downloading package stopwords to\n",
      "[nltk_data]     C:\\Users\\swapn\\AppData\\Roaming\\nltk_data...\n",
      "[nltk_data]   Package stopwords is already up-to-date!\n",
      "[nltk_data] Downloading package wordnet to\n",
      "[nltk_data]     C:\\Users\\swapn\\AppData\\Roaming\\nltk_data...\n",
      "[nltk_data]   Package wordnet is already up-to-date!\n",
      "[nltk_data] Downloading package punkt to\n",
      "[nltk_data]     C:\\Users\\swapn\\AppData\\Roaming\\nltk_data...\n",
      "[nltk_data]   Package punkt is already up-to-date!\n",
      "[nltk_data] Downloading package averaged_perceptron_tagger to\n",
      "[nltk_data]     C:\\Users\\swapn\\AppData\\Roaming\\nltk_data...\n",
      "[nltk_data]   Package averaged_perceptron_tagger is already up-to-\n",
      "[nltk_data]       date!\n",
      "[nltk_data] Downloading package omw-1.4 to\n",
      "[nltk_data]     C:\\Users\\swapn\\AppData\\Roaming\\nltk_data...\n",
      "[nltk_data]   Package omw-1.4 is already up-to-date!\n"
     ]
    },
    {
     "data": {
      "text/plain": [
       "True"
      ]
     },
     "execution_count": 9,
     "metadata": {},
     "output_type": "execute_result"
    }
   ],
   "source": [
    "# Download necessary NLTK data\n",
    "import nltk\n",
    "\n",
    "nltk.download('stopwords')\n",
    "nltk.download('wordnet')\n",
    "nltk.download('punkt')\n",
    "nltk.download('averaged_perceptron_tagger')\n",
    "nltk.download('omw-1.4')"
   ]
  },
  {
   "cell_type": "code",
   "execution_count": 10,
   "id": "c22c9b8e-e9dd-4ea5-a4e7-a86191a9d044",
   "metadata": {},
   "outputs": [],
   "source": [
    "import tensorflow as tf\n",
    "from tensorflow.keras.preprocessing.text import Tokenizer\n",
    "from tensorflow.keras.preprocessing.sequence import pad_sequences\n",
    "from tensorflow.keras.models import Sequential\n",
    "from tensorflow.keras.layers import Embedding, Dense, LSTM, GRU, GlobalMaxPool1D\n",
    "from tensorflow.keras.utils import to_categorical\n",
    "from tensorflow.keras.layers import Dropout\n",
    "from tensorflow.keras.layers import Flatten"
   ]
  },
  {
   "cell_type": "markdown",
   "id": "b78b92dd-c420-4133-907f-4e540f39f16f",
   "metadata": {},
   "source": [
    "## Data exploration and cleaning\n",
    "- Exploring data\n",
    "- created new column by merging headline and  short_description column\n",
    "- appling preprocess function which invole all cleaning step"
   ]
  },
  {
   "cell_type": "code",
   "execution_count": 11,
   "id": "6a7fcbc0-e9d1-44a8-abd8-80fc28c3db5d",
   "metadata": {},
   "outputs": [],
   "source": [
    "df=pd.read_csv('data_news.csv')"
   ]
  },
  {
   "cell_type": "code",
   "execution_count": 12,
   "id": "4a13095b-3efb-4360-b3fd-62ea7d54b8aa",
   "metadata": {},
   "outputs": [
    {
     "data": {
      "text/html": [
       "<div>\n",
       "<style scoped>\n",
       "    .dataframe tbody tr th:only-of-type {\n",
       "        vertical-align: middle;\n",
       "    }\n",
       "\n",
       "    .dataframe tbody tr th {\n",
       "        vertical-align: top;\n",
       "    }\n",
       "\n",
       "    .dataframe thead th {\n",
       "        text-align: right;\n",
       "    }\n",
       "</style>\n",
       "<table border=\"1\" class=\"dataframe\">\n",
       "  <thead>\n",
       "    <tr style=\"text-align: right;\">\n",
       "      <th></th>\n",
       "      <th>category</th>\n",
       "      <th>headline</th>\n",
       "      <th>links</th>\n",
       "      <th>short_description</th>\n",
       "      <th>keywords</th>\n",
       "    </tr>\n",
       "  </thead>\n",
       "  <tbody>\n",
       "    <tr>\n",
       "      <th>0</th>\n",
       "      <td>WELLNESS</td>\n",
       "      <td>143 Miles in 35 Days: Lessons Learned</td>\n",
       "      <td>https://www.huffingtonpost.com/entry/running-l...</td>\n",
       "      <td>Resting is part of training. I've confirmed wh...</td>\n",
       "      <td>running-lessons</td>\n",
       "    </tr>\n",
       "    <tr>\n",
       "      <th>1</th>\n",
       "      <td>WELLNESS</td>\n",
       "      <td>Talking to Yourself: Crazy or Crazy Helpful?</td>\n",
       "      <td>https://www.huffingtonpost.com/entry/talking-t...</td>\n",
       "      <td>Think of talking to yourself as a tool to coac...</td>\n",
       "      <td>talking-to-yourself-crazy</td>\n",
       "    </tr>\n",
       "    <tr>\n",
       "      <th>2</th>\n",
       "      <td>WELLNESS</td>\n",
       "      <td>Crenezumab: Trial Will Gauge Whether Alzheimer...</td>\n",
       "      <td>https://www.huffingtonpost.com/entry/crenezuma...</td>\n",
       "      <td>The clock is ticking for the United States to ...</td>\n",
       "      <td>crenezumab-alzheimers-disease-drug</td>\n",
       "    </tr>\n",
       "    <tr>\n",
       "      <th>3</th>\n",
       "      <td>WELLNESS</td>\n",
       "      <td>Oh, What a Difference She Made</td>\n",
       "      <td>https://www.huffingtonpost.com/entry/meaningfu...</td>\n",
       "      <td>If you want to be busy, keep trying to be perf...</td>\n",
       "      <td>meaningful-life</td>\n",
       "    </tr>\n",
       "    <tr>\n",
       "      <th>4</th>\n",
       "      <td>WELLNESS</td>\n",
       "      <td>Green Superfoods</td>\n",
       "      <td>https://www.huffingtonpost.com/entry/green-sup...</td>\n",
       "      <td>First, the bad news: Soda bread, corned beef a...</td>\n",
       "      <td>green-superfoods</td>\n",
       "    </tr>\n",
       "  </tbody>\n",
       "</table>\n",
       "</div>"
      ],
      "text/plain": [
       "   category                                           headline  \\\n",
       "0  WELLNESS              143 Miles in 35 Days: Lessons Learned   \n",
       "1  WELLNESS       Talking to Yourself: Crazy or Crazy Helpful?   \n",
       "2  WELLNESS  Crenezumab: Trial Will Gauge Whether Alzheimer...   \n",
       "3  WELLNESS                     Oh, What a Difference She Made   \n",
       "4  WELLNESS                                   Green Superfoods   \n",
       "\n",
       "                                               links  \\\n",
       "0  https://www.huffingtonpost.com/entry/running-l...   \n",
       "1  https://www.huffingtonpost.com/entry/talking-t...   \n",
       "2  https://www.huffingtonpost.com/entry/crenezuma...   \n",
       "3  https://www.huffingtonpost.com/entry/meaningfu...   \n",
       "4  https://www.huffingtonpost.com/entry/green-sup...   \n",
       "\n",
       "                                   short_description  \\\n",
       "0  Resting is part of training. I've confirmed wh...   \n",
       "1  Think of talking to yourself as a tool to coac...   \n",
       "2  The clock is ticking for the United States to ...   \n",
       "3  If you want to be busy, keep trying to be perf...   \n",
       "4  First, the bad news: Soda bread, corned beef a...   \n",
       "\n",
       "                             keywords  \n",
       "0                     running-lessons  \n",
       "1           talking-to-yourself-crazy  \n",
       "2  crenezumab-alzheimers-disease-drug  \n",
       "3                     meaningful-life  \n",
       "4                    green-superfoods  "
      ]
     },
     "execution_count": 12,
     "metadata": {},
     "output_type": "execute_result"
    }
   ],
   "source": [
    "df.head()"
   ]
  },
  {
   "cell_type": "code",
   "execution_count": 13,
   "id": "8bb36809-dea6-4b78-9885-ab29122ce6a2",
   "metadata": {},
   "outputs": [],
   "source": [
    "df = df[['category', 'headline', 'short_description']]"
   ]
  },
  {
   "cell_type": "code",
   "execution_count": 14,
   "id": "c95447f4-6952-45cd-bc36-630698f66901",
   "metadata": {},
   "outputs": [],
   "source": [
    "df['text'] = df['headline']+ ' ' + df['short_description']"
   ]
  },
  {
   "cell_type": "code",
   "execution_count": 15,
   "id": "caca4d24-9580-451c-be87-76f15f236933",
   "metadata": {},
   "outputs": [],
   "source": [
    "df = df[['category', 'text']]"
   ]
  },
  {
   "cell_type": "code",
   "execution_count": 16,
   "id": "a2f28071-f5ca-4b66-b5a7-7688ca70ddb7",
   "metadata": {},
   "outputs": [
    {
     "data": {
      "text/plain": [
       "category    0\n",
       "text        0\n",
       "dtype: int64"
      ]
     },
     "execution_count": 16,
     "metadata": {},
     "output_type": "execute_result"
    }
   ],
   "source": [
    "df.isnull().sum()"
   ]
  },
  {
   "cell_type": "code",
   "execution_count": 17,
   "id": "381e05ce-b0b6-4a2a-ae2c-dee9038a003a",
   "metadata": {},
   "outputs": [
    {
     "data": {
      "text/html": [
       "<div>\n",
       "<style scoped>\n",
       "    .dataframe tbody tr th:only-of-type {\n",
       "        vertical-align: middle;\n",
       "    }\n",
       "\n",
       "    .dataframe tbody tr th {\n",
       "        vertical-align: top;\n",
       "    }\n",
       "\n",
       "    .dataframe thead th {\n",
       "        text-align: right;\n",
       "    }\n",
       "</style>\n",
       "<table border=\"1\" class=\"dataframe\">\n",
       "  <thead>\n",
       "    <tr style=\"text-align: right;\">\n",
       "      <th></th>\n",
       "      <th>category</th>\n",
       "      <th>text</th>\n",
       "    </tr>\n",
       "  </thead>\n",
       "  <tbody>\n",
       "    <tr>\n",
       "      <th>0</th>\n",
       "      <td>WELLNESS</td>\n",
       "      <td>143 Miles in 35 Days: Lessons Learned Resting ...</td>\n",
       "    </tr>\n",
       "    <tr>\n",
       "      <th>1</th>\n",
       "      <td>WELLNESS</td>\n",
       "      <td>Talking to Yourself: Crazy or Crazy Helpful? T...</td>\n",
       "    </tr>\n",
       "    <tr>\n",
       "      <th>2</th>\n",
       "      <td>WELLNESS</td>\n",
       "      <td>Crenezumab: Trial Will Gauge Whether Alzheimer...</td>\n",
       "    </tr>\n",
       "    <tr>\n",
       "      <th>3</th>\n",
       "      <td>WELLNESS</td>\n",
       "      <td>Oh, What a Difference She Made If you want to ...</td>\n",
       "    </tr>\n",
       "    <tr>\n",
       "      <th>4</th>\n",
       "      <td>WELLNESS</td>\n",
       "      <td>Green Superfoods First, the bad news: Soda bre...</td>\n",
       "    </tr>\n",
       "  </tbody>\n",
       "</table>\n",
       "</div>"
      ],
      "text/plain": [
       "   category                                               text\n",
       "0  WELLNESS  143 Miles in 35 Days: Lessons Learned Resting ...\n",
       "1  WELLNESS  Talking to Yourself: Crazy or Crazy Helpful? T...\n",
       "2  WELLNESS  Crenezumab: Trial Will Gauge Whether Alzheimer...\n",
       "3  WELLNESS  Oh, What a Difference She Made If you want to ...\n",
       "4  WELLNESS  Green Superfoods First, the bad news: Soda bre..."
      ]
     },
     "execution_count": 17,
     "metadata": {},
     "output_type": "execute_result"
    }
   ],
   "source": [
    "df.head()"
   ]
  },
  {
   "cell_type": "code",
   "execution_count": 18,
   "id": "0a6fd903-af26-4d84-a5fa-4302a3ec0e5a",
   "metadata": {},
   "outputs": [
    {
     "data": {
      "text/plain": [
       "(50000, 2)"
      ]
     },
     "execution_count": 18,
     "metadata": {},
     "output_type": "execute_result"
    }
   ],
   "source": [
    "df.shape"
   ]
  },
  {
   "cell_type": "code",
   "execution_count": 19,
   "id": "6e73c3d8-4ed4-4671-aa83-38b89a7ebfa2",
   "metadata": {},
   "outputs": [
    {
     "data": {
      "text/plain": [
       "<bound method DataFrame.info of        category                                               text\n",
       "0      WELLNESS  143 Miles in 35 Days: Lessons Learned Resting ...\n",
       "1      WELLNESS  Talking to Yourself: Crazy or Crazy Helpful? T...\n",
       "2      WELLNESS  Crenezumab: Trial Will Gauge Whether Alzheimer...\n",
       "3      WELLNESS  Oh, What a Difference She Made If you want to ...\n",
       "4      WELLNESS  Green Superfoods First, the bad news: Soda bre...\n",
       "...         ...                                                ...\n",
       "49995    SPORTS  This Baseball Team Learned There's A Wrong Way...\n",
       "49996    SPORTS  Some Young Spurs Fan Dabbed 38 Times In A Sing...\n",
       "49997    SPORTS  Rasheed Wallace Ejected From Knicks-Suns Game ...\n",
       "49998    SPORTS  Why Jake Plummer And Other NFL Players Are Pus...\n",
       "49999    SPORTS  Simone Biles Isn't The Next Anyone, She's 'The...\n",
       "\n",
       "[50000 rows x 2 columns]>"
      ]
     },
     "execution_count": 19,
     "metadata": {},
     "output_type": "execute_result"
    }
   ],
   "source": [
    "df.info"
   ]
  },
  {
   "cell_type": "code",
   "execution_count": 20,
   "id": "78ca8867-7ad6-46fa-a016-edaf8a189522",
   "metadata": {},
   "outputs": [],
   "source": [
    "from nltk.corpus import stopwords\n",
    "from nltk.stem import PorterStemmer\n",
    "from nltk.stem import WordNetLemmatizer\n",
    "stop_words = set(stopwords.words('english'))\n",
    "stemmer = PorterStemmer()\n",
    "lemmatizer = WordNetLemmatizer()"
   ]
  },
  {
   "cell_type": "code",
   "execution_count": 21,
   "id": "30474e80-8308-4933-ba6c-76627d425635",
   "metadata": {},
   "outputs": [],
   "source": [
    "def preprocess(text):\n",
    "    if not isinstance(text,str):\n",
    "        text= str(text)\n",
    "    \n",
    "    text = re.sub(r'[^a-zA-Z0-9]', ' ', text)    # Remove non-alphanumeric characters and tokenize\n",
    "    \n",
    "    text = text.lower()  # Lowercase\n",
    "\n",
    "    words = [word for word in text.split() if word not in stop_words]  # Remove stopwords\n",
    "    \n",
    "    words = [lemmatizer.lemmatize(word) for word in words]  # Lemmatization\n",
    "    \n",
    "    return ' '.join(words)"
   ]
  },
  {
   "cell_type": "code",
   "execution_count": 22,
   "id": "6dbbdd41-48d4-49a7-9a24-933f79972f06",
   "metadata": {},
   "outputs": [
    {
     "data": {
      "text/html": [
       "<div>\n",
       "<style scoped>\n",
       "    .dataframe tbody tr th:only-of-type {\n",
       "        vertical-align: middle;\n",
       "    }\n",
       "\n",
       "    .dataframe tbody tr th {\n",
       "        vertical-align: top;\n",
       "    }\n",
       "\n",
       "    .dataframe thead th {\n",
       "        text-align: right;\n",
       "    }\n",
       "</style>\n",
       "<table border=\"1\" class=\"dataframe\">\n",
       "  <thead>\n",
       "    <tr style=\"text-align: right;\">\n",
       "      <th></th>\n",
       "      <th>category</th>\n",
       "      <th>clean_text</th>\n",
       "    </tr>\n",
       "  </thead>\n",
       "  <tbody>\n",
       "    <tr>\n",
       "      <th>0</th>\n",
       "      <td>WELLNESS</td>\n",
       "      <td>143 mile 35 day lesson learned resting part tr...</td>\n",
       "    </tr>\n",
       "    <tr>\n",
       "      <th>1</th>\n",
       "      <td>WELLNESS</td>\n",
       "      <td>talking crazy crazy helpful think talking tool...</td>\n",
       "    </tr>\n",
       "    <tr>\n",
       "      <th>2</th>\n",
       "      <td>WELLNESS</td>\n",
       "      <td>crenezumab trial gauge whether alzheimer drug ...</td>\n",
       "    </tr>\n",
       "    <tr>\n",
       "      <th>3</th>\n",
       "      <td>WELLNESS</td>\n",
       "      <td>oh difference made want busy keep trying perfe...</td>\n",
       "    </tr>\n",
       "    <tr>\n",
       "      <th>4</th>\n",
       "      <td>WELLNESS</td>\n",
       "      <td>green superfoods first bad news soda bread cor...</td>\n",
       "    </tr>\n",
       "  </tbody>\n",
       "</table>\n",
       "</div>"
      ],
      "text/plain": [
       "   category                                         clean_text\n",
       "0  WELLNESS  143 mile 35 day lesson learned resting part tr...\n",
       "1  WELLNESS  talking crazy crazy helpful think talking tool...\n",
       "2  WELLNESS  crenezumab trial gauge whether alzheimer drug ...\n",
       "3  WELLNESS  oh difference made want busy keep trying perfe...\n",
       "4  WELLNESS  green superfoods first bad news soda bread cor..."
      ]
     },
     "execution_count": 22,
     "metadata": {},
     "output_type": "execute_result"
    }
   ],
   "source": [
    "# Apply preprocessing on the 'articles' column, store cleaned version in new column\n",
    "df['clean_text'] = df['text'].apply(preprocess)\n",
    "\n",
    "# Show result with categories and cleaned articles\n",
    "df[['category', 'clean_text']].head()\n"
   ]
  },
  {
   "cell_type": "code",
   "execution_count": 23,
   "id": "adf0e819-ce57-4964-8bac-7a7259b37ffd",
   "metadata": {},
   "outputs": [
    {
     "data": {
      "text/html": [
       "<div>\n",
       "<style scoped>\n",
       "    .dataframe tbody tr th:only-of-type {\n",
       "        vertical-align: middle;\n",
       "    }\n",
       "\n",
       "    .dataframe tbody tr th {\n",
       "        vertical-align: top;\n",
       "    }\n",
       "\n",
       "    .dataframe thead th {\n",
       "        text-align: right;\n",
       "    }\n",
       "</style>\n",
       "<table border=\"1\" class=\"dataframe\">\n",
       "  <thead>\n",
       "    <tr style=\"text-align: right;\">\n",
       "      <th></th>\n",
       "      <th>category</th>\n",
       "      <th>text</th>\n",
       "      <th>clean_text</th>\n",
       "    </tr>\n",
       "  </thead>\n",
       "  <tbody>\n",
       "    <tr>\n",
       "      <th>0</th>\n",
       "      <td>WELLNESS</td>\n",
       "      <td>143 Miles in 35 Days: Lessons Learned Resting ...</td>\n",
       "      <td>143 mile 35 day lesson learned resting part tr...</td>\n",
       "    </tr>\n",
       "    <tr>\n",
       "      <th>1</th>\n",
       "      <td>WELLNESS</td>\n",
       "      <td>Talking to Yourself: Crazy or Crazy Helpful? T...</td>\n",
       "      <td>talking crazy crazy helpful think talking tool...</td>\n",
       "    </tr>\n",
       "    <tr>\n",
       "      <th>2</th>\n",
       "      <td>WELLNESS</td>\n",
       "      <td>Crenezumab: Trial Will Gauge Whether Alzheimer...</td>\n",
       "      <td>crenezumab trial gauge whether alzheimer drug ...</td>\n",
       "    </tr>\n",
       "    <tr>\n",
       "      <th>3</th>\n",
       "      <td>WELLNESS</td>\n",
       "      <td>Oh, What a Difference She Made If you want to ...</td>\n",
       "      <td>oh difference made want busy keep trying perfe...</td>\n",
       "    </tr>\n",
       "    <tr>\n",
       "      <th>4</th>\n",
       "      <td>WELLNESS</td>\n",
       "      <td>Green Superfoods First, the bad news: Soda bre...</td>\n",
       "      <td>green superfoods first bad news soda bread cor...</td>\n",
       "    </tr>\n",
       "    <tr>\n",
       "      <th>5</th>\n",
       "      <td>WELLNESS</td>\n",
       "      <td>Bad Love Advice: 9 Lessons To Unlearn By Carey...</td>\n",
       "      <td>bad love advice 9 lesson unlearn carey moss yo...</td>\n",
       "    </tr>\n",
       "    <tr>\n",
       "      <th>6</th>\n",
       "      <td>WELLNESS</td>\n",
       "      <td>The Happiest (And Unhappiest) States In The U....</td>\n",
       "      <td>happiest unhappiest state u nation general sco...</td>\n",
       "    </tr>\n",
       "    <tr>\n",
       "      <th>7</th>\n",
       "      <td>WELLNESS</td>\n",
       "      <td>Seaweed: The Green Superfood You're Not Eating...</td>\n",
       "      <td>seaweed green superfood eating also worth reme...</td>\n",
       "    </tr>\n",
       "    <tr>\n",
       "      <th>8</th>\n",
       "      <td>WELLNESS</td>\n",
       "      <td>Addicted to Food? If you look at our culture's...</td>\n",
       "      <td>addicted food look culture eating behavior cer...</td>\n",
       "    </tr>\n",
       "    <tr>\n",
       "      <th>9</th>\n",
       "      <td>WELLNESS</td>\n",
       "      <td>High Tech Works When It Enables High Touch Fra...</td>\n",
       "      <td>high tech work enables high touch fran ois mar...</td>\n",
       "    </tr>\n",
       "    <tr>\n",
       "      <th>10</th>\n",
       "      <td>WELLNESS</td>\n",
       "      <td>Conflict: 7 Decisions to Learn Instead of Figh...</td>\n",
       "      <td>conflict 7 decision learn instead fight person...</td>\n",
       "    </tr>\n",
       "    <tr>\n",
       "      <th>11</th>\n",
       "      <td>WELLNESS</td>\n",
       "      <td>The Case For Lifting Heavy (VIDEO) And the ben...</td>\n",
       "      <td>case lifting heavy video benefit skin deep ann...</td>\n",
       "    </tr>\n",
       "    <tr>\n",
       "      <th>12</th>\n",
       "      <td>WELLNESS</td>\n",
       "      <td>A Show of Kindness: Good Works? Whatever Works...</td>\n",
       "      <td>show kindness good work whatever work wrestled...</td>\n",
       "    </tr>\n",
       "    <tr>\n",
       "      <th>13</th>\n",
       "      <td>WELLNESS</td>\n",
       "      <td>Time to Sweep Up the Confetti and Start Saving...</td>\n",
       "      <td>time sweep confetti start saving life obama ad...</td>\n",
       "    </tr>\n",
       "    <tr>\n",
       "      <th>14</th>\n",
       "      <td>WELLNESS</td>\n",
       "      <td>Mysterious Illness at Le Roy School: Understan...</td>\n",
       "      <td>mysterious illness le roy school understanding...</td>\n",
       "    </tr>\n",
       "    <tr>\n",
       "      <th>15</th>\n",
       "      <td>WELLNESS</td>\n",
       "      <td>At the Top of My Lungs: In Sickness and In Hea...</td>\n",
       "      <td>top lung sickness health heart full look beaut...</td>\n",
       "    </tr>\n",
       "    <tr>\n",
       "      <th>16</th>\n",
       "      <td>WELLNESS</td>\n",
       "      <td>The Most Beautiful Places To Nap (PHOTOS) For ...</td>\n",
       "      <td>beautiful place nap photo gps guide click feel...</td>\n",
       "    </tr>\n",
       "    <tr>\n",
       "      <th>17</th>\n",
       "      <td>WELLNESS</td>\n",
       "      <td>Are Antibiotics Making Us Fat? Cleanliness may...</td>\n",
       "      <td>antibiotic making u fat cleanliness may next g...</td>\n",
       "    </tr>\n",
       "    <tr>\n",
       "      <th>18</th>\n",
       "      <td>WELLNESS</td>\n",
       "      <td>Fearless Children Can Inspire a Nation I know ...</td>\n",
       "      <td>fearless child inspire nation know whether chi...</td>\n",
       "    </tr>\n",
       "    <tr>\n",
       "      <th>19</th>\n",
       "      <td>WELLNESS</td>\n",
       "      <td>Paper-Centered Care There is a lot of talk in ...</td>\n",
       "      <td>paper centered care lot talk health care today...</td>\n",
       "    </tr>\n",
       "  </tbody>\n",
       "</table>\n",
       "</div>"
      ],
      "text/plain": [
       "    category                                               text  \\\n",
       "0   WELLNESS  143 Miles in 35 Days: Lessons Learned Resting ...   \n",
       "1   WELLNESS  Talking to Yourself: Crazy or Crazy Helpful? T...   \n",
       "2   WELLNESS  Crenezumab: Trial Will Gauge Whether Alzheimer...   \n",
       "3   WELLNESS  Oh, What a Difference She Made If you want to ...   \n",
       "4   WELLNESS  Green Superfoods First, the bad news: Soda bre...   \n",
       "5   WELLNESS  Bad Love Advice: 9 Lessons To Unlearn By Carey...   \n",
       "6   WELLNESS  The Happiest (And Unhappiest) States In The U....   \n",
       "7   WELLNESS  Seaweed: The Green Superfood You're Not Eating...   \n",
       "8   WELLNESS  Addicted to Food? If you look at our culture's...   \n",
       "9   WELLNESS  High Tech Works When It Enables High Touch Fra...   \n",
       "10  WELLNESS  Conflict: 7 Decisions to Learn Instead of Figh...   \n",
       "11  WELLNESS  The Case For Lifting Heavy (VIDEO) And the ben...   \n",
       "12  WELLNESS  A Show of Kindness: Good Works? Whatever Works...   \n",
       "13  WELLNESS  Time to Sweep Up the Confetti and Start Saving...   \n",
       "14  WELLNESS  Mysterious Illness at Le Roy School: Understan...   \n",
       "15  WELLNESS  At the Top of My Lungs: In Sickness and In Hea...   \n",
       "16  WELLNESS  The Most Beautiful Places To Nap (PHOTOS) For ...   \n",
       "17  WELLNESS  Are Antibiotics Making Us Fat? Cleanliness may...   \n",
       "18  WELLNESS  Fearless Children Can Inspire a Nation I know ...   \n",
       "19  WELLNESS  Paper-Centered Care There is a lot of talk in ...   \n",
       "\n",
       "                                           clean_text  \n",
       "0   143 mile 35 day lesson learned resting part tr...  \n",
       "1   talking crazy crazy helpful think talking tool...  \n",
       "2   crenezumab trial gauge whether alzheimer drug ...  \n",
       "3   oh difference made want busy keep trying perfe...  \n",
       "4   green superfoods first bad news soda bread cor...  \n",
       "5   bad love advice 9 lesson unlearn carey moss yo...  \n",
       "6   happiest unhappiest state u nation general sco...  \n",
       "7   seaweed green superfood eating also worth reme...  \n",
       "8   addicted food look culture eating behavior cer...  \n",
       "9   high tech work enables high touch fran ois mar...  \n",
       "10  conflict 7 decision learn instead fight person...  \n",
       "11  case lifting heavy video benefit skin deep ann...  \n",
       "12  show kindness good work whatever work wrestled...  \n",
       "13  time sweep confetti start saving life obama ad...  \n",
       "14  mysterious illness le roy school understanding...  \n",
       "15  top lung sickness health heart full look beaut...  \n",
       "16  beautiful place nap photo gps guide click feel...  \n",
       "17  antibiotic making u fat cleanliness may next g...  \n",
       "18  fearless child inspire nation know whether chi...  \n",
       "19  paper centered care lot talk health care today...  "
      ]
     },
     "execution_count": 23,
     "metadata": {},
     "output_type": "execute_result"
    }
   ],
   "source": [
    "df.head(20)"
   ]
  },
  {
   "cell_type": "code",
   "execution_count": 24,
   "id": "700b286a-7e4c-4f10-a960-44562139fb76",
   "metadata": {},
   "outputs": [
    {
     "name": "stdout",
     "output_type": "stream",
     "text": [
      "['category', 'text', 'clean_text']\n"
     ]
    }
   ],
   "source": [
    "print(df.columns.tolist())\n"
   ]
  },
  {
   "cell_type": "markdown",
   "id": "19ee6cf1-68ba-4948-b66c-5b65664efa08",
   "metadata": {},
   "source": [
    "## Build Model\n",
    "- tokenize text and maintain it's sequence\n",
    "- label encoding  the categorical column\n",
    "- embedding model and featuring it's layer"
   ]
  },
  {
   "cell_type": "code",
   "execution_count": 25,
   "id": "e123ebc8-838f-46aa-9b9a-b0d6cebf3b02",
   "metadata": {},
   "outputs": [],
   "source": [
    "from sklearn.preprocessing import LabelEncoder\n"
   ]
  },
  {
   "cell_type": "code",
   "execution_count": 26,
   "id": "0abfcb94-454a-4c66-ba52-e797d7df887f",
   "metadata": {},
   "outputs": [],
   "source": [
    "# Tokenize clean_articles\n",
    "tokenizer = Tokenizer(num_words=5000)\n",
    "tokenizer.fit_on_texts(df['text'])\n",
    "sequences = tokenizer.texts_to_sequences(df['text'])\n",
    "\n",
    "# Pad sequences\n",
    "max_len = 200\n",
    "x= pad_sequences(sequences, maxlen=max_len)\n",
    "\n",
    "# Encode category labels\n",
    "le = LabelEncoder()\n",
    "y = le.fit_transform(df['category'])\n",
    "y = to_categorical(y)"
   ]
  },
  {
   "cell_type": "code",
   "execution_count": 27,
   "id": "3b52b16c-3233-46eb-b0f6-91ae908434a9",
   "metadata": {},
   "outputs": [
    {
     "name": "stdout",
     "output_type": "stream",
     "text": [
      "Shape of y: (50000, 10)\n"
     ]
    }
   ],
   "source": [
    "print(\"Shape of y:\", y.shape)"
   ]
  },
  {
   "cell_type": "markdown",
   "id": "1ef420c5-edc5-4d33-be6e-1b3cdb349a39",
   "metadata": {},
   "source": [
    "#### ANN Model creation"
   ]
  },
  {
   "cell_type": "code",
   "execution_count": 28,
   "id": "0059158a-21ca-4eae-babd-21251d9ae084",
   "metadata": {},
   "outputs": [],
   "source": [
    "model = Sequential([\n",
    "Embedding(input_dim=5000, output_dim=64, input_length=200),\n",
    " Flatten(),\n",
    "Dense(64, activation='relu'),\n",
    "Dropout(0.5),\n",
    "Dense(10, activation='softmax')])  # Use 10 units since y.shape[1] = 10\n",
    "\n",
    "# Compile with correct loss\n",
    "model.compile(optimizer='adam', loss='categorical_crossentropy', metrics=['accuracy'])\n"
   ]
  },
  {
   "cell_type": "code",
   "execution_count": 29,
   "id": "05f0b4a2-44d0-4252-8722-03bd56309620",
   "metadata": {},
   "outputs": [
    {
     "data": {
      "text/plain": [
       "category\n",
       "WELLNESS          5000\n",
       "POLITICS          5000\n",
       "ENTERTAINMENT     5000\n",
       "TRAVEL            5000\n",
       "STYLE & BEAUTY    5000\n",
       "PARENTING         5000\n",
       "FOOD & DRINK      5000\n",
       "WORLD NEWS        5000\n",
       "BUSINESS          5000\n",
       "SPORTS            5000\n",
       "Name: count, dtype: int64"
      ]
     },
     "execution_count": 29,
     "metadata": {},
     "output_type": "execute_result"
    }
   ],
   "source": [
    "df['category'].value_counts()"
   ]
  },
  {
   "cell_type": "markdown",
   "id": "a287e6cb-a391-4924-92cf-04c690c3999c",
   "metadata": {},
   "source": [
    "## Train-test split and fitting model"
   ]
  },
  {
   "cell_type": "code",
   "execution_count": 30,
   "id": "3a34d3b7-9d82-4584-8e9a-9b3030362c2e",
   "metadata": {},
   "outputs": [],
   "source": [
    "from sklearn.model_selection import train_test_split\n",
    "\n",
    "x_train, x_val, y_train, y_val = train_test_split(x, y, test_size=0.2, stratify=y, random_state=42)\n"
   ]
  },
  {
   "cell_type": "code",
   "execution_count": 31,
   "id": "e3d3d5cf-4fca-40ba-9b82-f2bb2140d510",
   "metadata": {},
   "outputs": [
    {
     "name": "stdout",
     "output_type": "stream",
     "text": [
      "Training shape: (40000, 200) (40000, 10)\n",
      "Validation shape: (10000, 200) (10000, 10)\n"
     ]
    }
   ],
   "source": [
    "print(\"Training shape:\", x_train.shape, y_train.shape)\n",
    "print(\"Validation shape:\", x_val.shape, y_val.shape)\n"
   ]
  },
  {
   "cell_type": "code",
   "execution_count": 32,
   "id": "ef6acd46-19c2-4052-989b-9662af77c8f0",
   "metadata": {},
   "outputs": [
    {
     "name": "stdout",
     "output_type": "stream",
     "text": [
      "Epoch 1/5\n",
      "\u001b[1m1250/1250\u001b[0m \u001b[32m━━━━━━━━━━━━━━━━━━━━\u001b[0m\u001b[37m\u001b[0m \u001b[1m19s\u001b[0m 14ms/step - accuracy: 0.2559 - loss: 1.9861 - val_accuracy: 0.7173 - val_loss: 0.8997\n",
      "Epoch 2/5\n",
      "\u001b[1m1250/1250\u001b[0m \u001b[32m━━━━━━━━━━━━━━━━━━━━\u001b[0m\u001b[37m\u001b[0m \u001b[1m18s\u001b[0m 14ms/step - accuracy: 0.7334 - loss: 0.8536 - val_accuracy: 0.7592 - val_loss: 0.7903\n",
      "Epoch 3/5\n",
      "\u001b[1m1250/1250\u001b[0m \u001b[32m━━━━━━━━━━━━━━━━━━━━\u001b[0m\u001b[37m\u001b[0m \u001b[1m18s\u001b[0m 14ms/step - accuracy: 0.8264 - loss: 0.5750 - val_accuracy: 0.7763 - val_loss: 0.7450\n",
      "Epoch 4/5\n",
      "\u001b[1m1250/1250\u001b[0m \u001b[32m━━━━━━━━━━━━━━━━━━━━\u001b[0m\u001b[37m\u001b[0m \u001b[1m18s\u001b[0m 15ms/step - accuracy: 0.8863 - loss: 0.3742 - val_accuracy: 0.7790 - val_loss: 0.8056\n",
      "Epoch 5/5\n",
      "\u001b[1m1250/1250\u001b[0m \u001b[32m━━━━━━━━━━━━━━━━━━━━\u001b[0m\u001b[37m\u001b[0m \u001b[1m18s\u001b[0m 14ms/step - accuracy: 0.9306 - loss: 0.2300 - val_accuracy: 0.7741 - val_loss: 0.9088\n"
     ]
    }
   ],
   "source": [
    "history = model.fit(x_train, y_train, epochs=5, batch_size=32, validation_data=(x_val, y_val))"
   ]
  },
  {
   "cell_type": "code",
   "execution_count": 33,
   "id": "0b6890de-3ade-4322-ba3f-758e7c13b11c",
   "metadata": {},
   "outputs": [
    {
     "data": {
      "text/html": [
       "<pre style=\"white-space:pre;overflow-x:auto;line-height:normal;font-family:Menlo,'DejaVu Sans Mono',consolas,'Courier New',monospace\"><span style=\"font-weight: bold\">Model: \"sequential\"</span>\n",
       "</pre>\n"
      ],
      "text/plain": [
       "\u001b[1mModel: \"sequential\"\u001b[0m\n"
      ]
     },
     "metadata": {},
     "output_type": "display_data"
    },
    {
     "data": {
      "text/html": [
       "<pre style=\"white-space:pre;overflow-x:auto;line-height:normal;font-family:Menlo,'DejaVu Sans Mono',consolas,'Courier New',monospace\">┏━━━━━━━━━━━━━━━━━━━━━━━━━━━━━━━━━━━━━━┳━━━━━━━━━━━━━━━━━━━━━━━━━━━━━┳━━━━━━━━━━━━━━━━━┓\n",
       "┃<span style=\"font-weight: bold\"> Layer (type)                         </span>┃<span style=\"font-weight: bold\"> Output Shape                </span>┃<span style=\"font-weight: bold\">         Param # </span>┃\n",
       "┡━━━━━━━━━━━━━━━━━━━━━━━━━━━━━━━━━━━━━━╇━━━━━━━━━━━━━━━━━━━━━━━━━━━━━╇━━━━━━━━━━━━━━━━━┩\n",
       "│ embedding (<span style=\"color: #0087ff; text-decoration-color: #0087ff\">Embedding</span>)                │ (<span style=\"color: #00af00; text-decoration-color: #00af00\">32</span>, <span style=\"color: #00af00; text-decoration-color: #00af00\">200</span>, <span style=\"color: #00af00; text-decoration-color: #00af00\">64</span>)               │         <span style=\"color: #00af00; text-decoration-color: #00af00\">320,000</span> │\n",
       "├──────────────────────────────────────┼─────────────────────────────┼─────────────────┤\n",
       "│ flatten (<span style=\"color: #0087ff; text-decoration-color: #0087ff\">Flatten</span>)                    │ (<span style=\"color: #00af00; text-decoration-color: #00af00\">32</span>, <span style=\"color: #00af00; text-decoration-color: #00af00\">12800</span>)                 │               <span style=\"color: #00af00; text-decoration-color: #00af00\">0</span> │\n",
       "├──────────────────────────────────────┼─────────────────────────────┼─────────────────┤\n",
       "│ dense (<span style=\"color: #0087ff; text-decoration-color: #0087ff\">Dense</span>)                        │ (<span style=\"color: #00af00; text-decoration-color: #00af00\">32</span>, <span style=\"color: #00af00; text-decoration-color: #00af00\">64</span>)                    │         <span style=\"color: #00af00; text-decoration-color: #00af00\">819,264</span> │\n",
       "├──────────────────────────────────────┼─────────────────────────────┼─────────────────┤\n",
       "│ dropout (<span style=\"color: #0087ff; text-decoration-color: #0087ff\">Dropout</span>)                    │ (<span style=\"color: #00af00; text-decoration-color: #00af00\">32</span>, <span style=\"color: #00af00; text-decoration-color: #00af00\">64</span>)                    │               <span style=\"color: #00af00; text-decoration-color: #00af00\">0</span> │\n",
       "├──────────────────────────────────────┼─────────────────────────────┼─────────────────┤\n",
       "│ dense_1 (<span style=\"color: #0087ff; text-decoration-color: #0087ff\">Dense</span>)                      │ (<span style=\"color: #00af00; text-decoration-color: #00af00\">32</span>, <span style=\"color: #00af00; text-decoration-color: #00af00\">10</span>)                    │             <span style=\"color: #00af00; text-decoration-color: #00af00\">650</span> │\n",
       "└──────────────────────────────────────┴─────────────────────────────┴─────────────────┘\n",
       "</pre>\n"
      ],
      "text/plain": [
       "┏━━━━━━━━━━━━━━━━━━━━━━━━━━━━━━━━━━━━━━┳━━━━━━━━━━━━━━━━━━━━━━━━━━━━━┳━━━━━━━━━━━━━━━━━┓\n",
       "┃\u001b[1m \u001b[0m\u001b[1mLayer (type)                        \u001b[0m\u001b[1m \u001b[0m┃\u001b[1m \u001b[0m\u001b[1mOutput Shape               \u001b[0m\u001b[1m \u001b[0m┃\u001b[1m \u001b[0m\u001b[1m        Param #\u001b[0m\u001b[1m \u001b[0m┃\n",
       "┡━━━━━━━━━━━━━━━━━━━━━━━━━━━━━━━━━━━━━━╇━━━━━━━━━━━━━━━━━━━━━━━━━━━━━╇━━━━━━━━━━━━━━━━━┩\n",
       "│ embedding (\u001b[38;5;33mEmbedding\u001b[0m)                │ (\u001b[38;5;34m32\u001b[0m, \u001b[38;5;34m200\u001b[0m, \u001b[38;5;34m64\u001b[0m)               │         \u001b[38;5;34m320,000\u001b[0m │\n",
       "├──────────────────────────────────────┼─────────────────────────────┼─────────────────┤\n",
       "│ flatten (\u001b[38;5;33mFlatten\u001b[0m)                    │ (\u001b[38;5;34m32\u001b[0m, \u001b[38;5;34m12800\u001b[0m)                 │               \u001b[38;5;34m0\u001b[0m │\n",
       "├──────────────────────────────────────┼─────────────────────────────┼─────────────────┤\n",
       "│ dense (\u001b[38;5;33mDense\u001b[0m)                        │ (\u001b[38;5;34m32\u001b[0m, \u001b[38;5;34m64\u001b[0m)                    │         \u001b[38;5;34m819,264\u001b[0m │\n",
       "├──────────────────────────────────────┼─────────────────────────────┼─────────────────┤\n",
       "│ dropout (\u001b[38;5;33mDropout\u001b[0m)                    │ (\u001b[38;5;34m32\u001b[0m, \u001b[38;5;34m64\u001b[0m)                    │               \u001b[38;5;34m0\u001b[0m │\n",
       "├──────────────────────────────────────┼─────────────────────────────┼─────────────────┤\n",
       "│ dense_1 (\u001b[38;5;33mDense\u001b[0m)                      │ (\u001b[38;5;34m32\u001b[0m, \u001b[38;5;34m10\u001b[0m)                    │             \u001b[38;5;34m650\u001b[0m │\n",
       "└──────────────────────────────────────┴─────────────────────────────┴─────────────────┘\n"
      ]
     },
     "metadata": {},
     "output_type": "display_data"
    },
    {
     "data": {
      "text/html": [
       "<pre style=\"white-space:pre;overflow-x:auto;line-height:normal;font-family:Menlo,'DejaVu Sans Mono',consolas,'Courier New',monospace\"><span style=\"font-weight: bold\"> Total params: </span><span style=\"color: #00af00; text-decoration-color: #00af00\">3,419,744</span> (13.05 MB)\n",
       "</pre>\n"
      ],
      "text/plain": [
       "\u001b[1m Total params: \u001b[0m\u001b[38;5;34m3,419,744\u001b[0m (13.05 MB)\n"
      ]
     },
     "metadata": {},
     "output_type": "display_data"
    },
    {
     "data": {
      "text/html": [
       "<pre style=\"white-space:pre;overflow-x:auto;line-height:normal;font-family:Menlo,'DejaVu Sans Mono',consolas,'Courier New',monospace\"><span style=\"font-weight: bold\"> Trainable params: </span><span style=\"color: #00af00; text-decoration-color: #00af00\">1,139,914</span> (4.35 MB)\n",
       "</pre>\n"
      ],
      "text/plain": [
       "\u001b[1m Trainable params: \u001b[0m\u001b[38;5;34m1,139,914\u001b[0m (4.35 MB)\n"
      ]
     },
     "metadata": {},
     "output_type": "display_data"
    },
    {
     "data": {
      "text/html": [
       "<pre style=\"white-space:pre;overflow-x:auto;line-height:normal;font-family:Menlo,'DejaVu Sans Mono',consolas,'Courier New',monospace\"><span style=\"font-weight: bold\"> Non-trainable params: </span><span style=\"color: #00af00; text-decoration-color: #00af00\">0</span> (0.00 B)\n",
       "</pre>\n"
      ],
      "text/plain": [
       "\u001b[1m Non-trainable params: \u001b[0m\u001b[38;5;34m0\u001b[0m (0.00 B)\n"
      ]
     },
     "metadata": {},
     "output_type": "display_data"
    },
    {
     "data": {
      "text/html": [
       "<pre style=\"white-space:pre;overflow-x:auto;line-height:normal;font-family:Menlo,'DejaVu Sans Mono',consolas,'Courier New',monospace\"><span style=\"font-weight: bold\"> Optimizer params: </span><span style=\"color: #00af00; text-decoration-color: #00af00\">2,279,830</span> (8.70 MB)\n",
       "</pre>\n"
      ],
      "text/plain": [
       "\u001b[1m Optimizer params: \u001b[0m\u001b[38;5;34m2,279,830\u001b[0m (8.70 MB)\n"
      ]
     },
     "metadata": {},
     "output_type": "display_data"
    }
   ],
   "source": [
    "model.summary()"
   ]
  },
  {
   "cell_type": "markdown",
   "id": "5578aefc-e77a-4d01-b7c0-ac27926b9636",
   "metadata": {},
   "source": [
    "## Ploting Model Accuracy"
   ]
  },
  {
   "cell_type": "code",
   "execution_count": 34,
   "id": "a97eb157-c236-42f7-aeb9-7963d9daf857",
   "metadata": {},
   "outputs": [
    {
     "data": {
      "image/png": "[encoded data removed]",
      "text/plain": [
       "<Figure size 640x480 with 1 Axes>"
      ]
     },
     "metadata": {},
     "output_type": "display_data"
    }
   ],
   "source": [
    "import matplotlib.pyplot as plt\n",
    "\n",
    "# Plot accuracy\n",
    "plt.plot(history.history['accuracy'], label='Train Accuracy')\n",
    "plt.plot(history.history['val_accuracy'], label='Val Accuracy')\n",
    "plt.title(' ANN Model Accuracy')\n",
    "plt.xlabel('Epoch')\n",
    "plt.ylabel('Accuracy')\n",
    "plt.legend()\n",
    "plt.grid(True)\n",
    "plt.show()\n"
   ]
  },
  {
   "cell_type": "code",
   "execution_count": 43,
   "id": "436ca3eb-efbd-4577-9c7f-1b157ca4552c",
   "metadata": {},
   "outputs": [
    {
     "name": "stdout",
     "output_type": "stream",
     "text": [
      "\u001b[1m313/313\u001b[0m \u001b[32m━━━━━━━━━━━━━━━━━━━━\u001b[0m\u001b[37m\u001b[0m \u001b[1m1s\u001b[0m 4ms/step - accuracy: 0.7771 - loss: 0.8844\n",
      "Validation Accuracy: 0.77\n",
      "Validation Loss: 0.91\n"
     ]
    }
   ],
   "source": [
    "loss, accuracy = model.evaluate(x_val, y_val)\n",
    "print(f\"Validation Accuracy: {accuracy:.2f}\")\n",
    "print(f\"Validation Loss: {loss:.2f}\")\n"
   ]
  },
  {
   "cell_type": "markdown",
   "id": "8ddd6bf1-0475-4d89-aa1c-8cf04b625ce5",
   "metadata": {},
   "source": [
    "### Inference\n",
    "- Artificial Neural Network (ANN) Training Accuracy: ↑ 0.93\n",
    "  Validation Accuracy: ~0.78\n",
    "\n",
    "- Loss Trend: Validation loss fluctuated but remained under control.\n",
    "\n",
    "- Model generalizes decently but shows signs of mild overfitting.\n",
    "\n",
    "- Lightweight model and fast training time (~10s/epoch).\n",
    "\n",
    "- Works well as a baseline deep learning model.\n",
    "\n",
    "- showing generalise and good accuracy result at epoch 3"
   ]
  },
  {
   "cell_type": "markdown",
   "id": "245fc9d1-15f5-4790-b3e0-b97596bf2823",
   "metadata": {},
   "source": [
    "## RNN and LSTM"
   ]
  },
  {
   "cell_type": "code",
   "execution_count": 36,
   "id": "f9c178f6-72d9-4745-92cf-9d778e96bbe5",
   "metadata": {},
   "outputs": [],
   "source": [
    "from tensorflow.keras.models import Sequential\n",
    "from tensorflow.keras.layers import Embedding, SimpleRNN, LSTM, Dense, Dropout\n"
   ]
  },
  {
   "cell_type": "code",
   "execution_count": 46,
   "id": "c58d4e6d-0f47-4347-81c3-faa5ad55ea8e",
   "metadata": {},
   "outputs": [],
   "source": [
    "rnn_model = Sequential([\n",
    "    Embedding(input_dim=5000, output_dim=64, input_length=200),\n",
    "    SimpleRNN(64),\n",
    "    Dense(64, activation='relu'),\n",
    "    Dropout(0.5),\n",
    "    Flatten(),\n",
    "    Dense(10, activation='softmax')   # 10 units for 10 classes\n",
    "])\n",
    "\n",
    "# Compile RNN\n",
    "rnn_model.compile(\n",
    "    optimizer='adam',\n",
    "    loss='categorical_crossentropy',\n",
    "    metrics=['accuracy']\n",
    ")\n"
   ]
  },
  {
   "cell_type": "code",
   "execution_count": 48,
   "id": "5627c5f6-018e-4d19-9c75-ac81bff50d6c",
   "metadata": {},
   "outputs": [
    {
     "name": "stdout",
     "output_type": "stream",
     "text": [
      "Epoch 1/5\n",
      "\u001b[1m1250/1250\u001b[0m \u001b[32m━━━━━━━━━━━━━━━━━━━━\u001b[0m\u001b[37m\u001b[0m \u001b[1m58s\u001b[0m 46ms/step - accuracy: 0.7982 - loss: 0.6568 - val_accuracy: 0.6215 - val_loss: 1.3121\n",
      "Epoch 2/5\n",
      "\u001b[1m1250/1250\u001b[0m \u001b[32m━━━━━━━━━━━━━━━━━━━━\u001b[0m\u001b[37m\u001b[0m \u001b[1m59s\u001b[0m 47ms/step - accuracy: 0.8113 - loss: 0.6109 - val_accuracy: 0.6882 - val_loss: 1.1478\n",
      "Epoch 3/5\n",
      "\u001b[1m1250/1250\u001b[0m \u001b[32m━━━━━━━━━━━━━━━━━━━━\u001b[0m\u001b[37m\u001b[0m \u001b[1m77s\u001b[0m 61ms/step - accuracy: 0.8552 - loss: 0.4785 - val_accuracy: 0.7060 - val_loss: 1.1227\n",
      "Epoch 4/5\n",
      "\u001b[1m1250/1250\u001b[0m \u001b[32m━━━━━━━━━━━━━━━━━━━━\u001b[0m\u001b[37m\u001b[0m \u001b[1m76s\u001b[0m 56ms/step - accuracy: 0.8719 - loss: 0.4261 - val_accuracy: 0.7161 - val_loss: 1.2223\n",
      "Epoch 5/5\n",
      "\u001b[1m1250/1250\u001b[0m \u001b[32m━━━━━━━━━━━━━━━━━━━━\u001b[0m\u001b[37m\u001b[0m \u001b[1m63s\u001b[0m 50ms/step - accuracy: 0.8928 - loss: 0.3511 - val_accuracy: 0.7037 - val_loss: 1.2683\n"
     ]
    }
   ],
   "source": [
    "history_rnn=rnn_model.fit(x_train, y_train, epochs=5, validation_data=(x_val, y_val))\n"
   ]
  },
  {
   "cell_type": "code",
   "execution_count": 39,
   "id": "de2184a2-77d8-4095-b764-998f6b3e90f8",
   "metadata": {},
   "outputs": [],
   "source": [
    "lstm_model = Sequential([\n",
    "    Embedding(input_dim=5000, output_dim=64, input_length=200),\n",
    "    LSTM(64),\n",
    "    Dense(64, activation='relu'),\n",
    "    Dropout(0.5),\n",
    "    Dense(10, activation='softmax')   # 10 units for 10 classes\n",
    "])\n",
    "\n",
    "# Compile LSTM\n",
    "lstm_model.compile(\n",
    "    optimizer='adam',\n",
    "    loss='categorical_crossentropy',\n",
    "    metrics=['accuracy']\n",
    ")\n"
   ]
  },
  {
   "cell_type": "code",
   "execution_count": 40,
   "id": "a24088f4-6844-4f12-8a34-b7e63357544d",
   "metadata": {},
   "outputs": [
    {
     "name": "stdout",
     "output_type": "stream",
     "text": [
      "Epoch 1/5\n",
      "\u001b[1m1250/1250\u001b[0m \u001b[32m━━━━━━━━━━━━━━━━━━━━\u001b[0m\u001b[37m\u001b[0m \u001b[1m118s\u001b[0m 92ms/step - accuracy: 0.2915 - loss: 1.8937 - val_accuracy: 0.6563 - val_loss: 1.0372\n",
      "Epoch 2/5\n",
      "\u001b[1m1250/1250\u001b[0m \u001b[32m━━━━━━━━━━━━━━━━━━━━\u001b[0m\u001b[37m\u001b[0m \u001b[1m141s\u001b[0m 91ms/step - accuracy: 0.6862 - loss: 0.9745 - val_accuracy: 0.7459 - val_loss: 0.8302\n",
      "Epoch 3/5\n",
      "\u001b[1m1250/1250\u001b[0m \u001b[32m━━━━━━━━━━━━━━━━━━━━\u001b[0m\u001b[37m\u001b[0m \u001b[1m115s\u001b[0m 92ms/step - accuracy: 0.7998 - loss: 0.7139 - val_accuracy: 0.7659 - val_loss: 0.7951\n",
      "Epoch 4/5\n",
      "\u001b[1m1250/1250\u001b[0m \u001b[32m━━━━━━━━━━━━━━━━━━━━\u001b[0m\u001b[37m\u001b[0m \u001b[1m116s\u001b[0m 92ms/step - accuracy: 0.8421 - loss: 0.5762 - val_accuracy: 0.7621 - val_loss: 0.9042\n",
      "Epoch 5/5\n",
      "\u001b[1m1250/1250\u001b[0m \u001b[32m━━━━━━━━━━━━━━━━━━━━\u001b[0m\u001b[37m\u001b[0m \u001b[1m115s\u001b[0m 92ms/step - accuracy: 0.8627 - loss: 0.5021 - val_accuracy: 0.7719 - val_loss: 0.8319\n"
     ]
    }
   ],
   "source": [
    "history_lstm=lstm_model.fit(x_train, y_train, epochs=5, validation_data=(x_val, y_val))\n"
   ]
  },
  {
   "cell_type": "code",
   "execution_count": 49,
   "id": "39cbc9cc-bfbb-491f-abd8-25b7a67ac592",
   "metadata": {},
   "outputs": [
    {
     "data": {
      "image/png": "[encoded data removed]",
      "text/plain": [
       "<Figure size 640x480 with 1 Axes>"
      ]
     },
     "metadata": {},
     "output_type": "display_data"
    },
    {
     "data": {
      "image/png": "[encoded data removed]",
      "text/plain": [
       "<Figure size 640x480 with 1 Axes>"
      ]
     },
     "metadata": {},
     "output_type": "display_data"
    }
   ],
   "source": [
    "import matplotlib.pyplot as plt\n",
    "\n",
    "# Plotting function\n",
    "def plot_accuracy(history, title):\n",
    "    plt.plot(history.history['accuracy'], label='Training Accuracy')\n",
    "    plt.plot(history.history['val_accuracy'], label='Validation Accuracy')\n",
    "    plt.title(title)\n",
    "    plt.xlabel('Epoch')\n",
    "    plt.ylabel('Accuracy')\n",
    "    plt.legend()\n",
    "    plt.grid(True)\n",
    "    plt.show()\n",
    "\n",
    "\n",
    "\n",
    "# Plot RNN\n",
    "plot_accuracy(history_rnn, 'RNN Accuracy')\n",
    "\n",
    "# Plot LSTM\n",
    "plot_accuracy(history_lstm, 'LSTM Accuracy')\n"
   ]
  },
  {
   "cell_type": "code",
   "execution_count": 50,
   "id": "d8e882a5-dc77-4c88-a3fe-1ea89f1f5e45",
   "metadata": {},
   "outputs": [
    {
     "name": "stdout",
     "output_type": "stream",
     "text": [
      "\u001b[1m313/313\u001b[0m \u001b[32m━━━━━━━━━━━━━━━━━━━━\u001b[0m\u001b[37m\u001b[0m \u001b[1m6s\u001b[0m 18ms/step - accuracy: 0.7142 - loss: 1.2359\n",
      "Validation Accuracy: 0.70\n",
      "Validation Loss: 1.27\n"
     ]
    }
   ],
   "source": [
    "loss, accuracy = rnn_model.evaluate(x_val, y_val)\n",
    "print(f\"Validation Accuracy: {accuracy:.2f}\")\n",
    "print(f\"Validation Loss: {loss:.2f}\")\n"
   ]
  },
  {
   "cell_type": "code",
   "execution_count": 51,
   "id": "1a3b2cfa-92f8-460a-99fe-88b7b1a49c87",
   "metadata": {},
   "outputs": [
    {
     "name": "stdout",
     "output_type": "stream",
     "text": [
      "\u001b[1m313/313\u001b[0m \u001b[32m━━━━━━━━━━━━━━━━━━━━\u001b[0m\u001b[37m\u001b[0m \u001b[1m15s\u001b[0m 49ms/step - accuracy: 0.7710 - loss: 0.8280\n",
      "Validation Accuracy: 0.77\n",
      "Validation Loss: 0.83\n"
     ]
    }
   ],
   "source": [
    "loss, accuracy = lstm_model.evaluate(x_val, y_val)\n",
    "print(f\"Validation Accuracy: {accuracy:.2f}\")\n",
    "print(f\"Validation Loss: {loss:.2f}\")\n"
   ]
  },
  {
   "cell_type": "markdown",
   "id": "18644e90-14fd-4f07-b55f-b0369ad58c52",
   "metadata": {},
   "source": [
    "## Inference"
   ]
  },
  {
   "cell_type": "markdown",
   "id": "8d8e7f43-1a2b-4a1c-93ee-d02602955809",
   "metadata": {},
   "source": [
    "**RNN**\n",
    "- Recurrent Neural Network (RNN) Training Accuracy: ↑ 0.89\n",
    "Validation Accuracy: ~0.70\n",
    "\n",
    "- overfitted more than Ann.\n",
    "\n",
    "- Longer training time 50s+ per epoch\n",
    "\n",
    "- Likely affected by vanishing gradient problem and lack of memory depth."
   ]
  },
  {
   "cell_type": "markdown",
   "id": "50b1ef4c-f2ac-41f4-be95-99ebffb2fca2",
   "metadata": {},
   "source": [
    "**LSTM**\n",
    "- Long Short-Term Memory (LSTM) Training Accuracy: ↑ 0.86\n",
    "Validation Accuracy: ~0.77\n",
    "\n",
    "- Loss Trend: Slight overfitting after 3rd epoch.\n",
    "\n",
    "- Very close to ANN in performance.\n",
    "\n",
    "- Handles sequential data better.\n",
    "\n",
    "- Long training time ~90s per epoch.\n"
   ]
  },
  {
   "cell_type": "code",
   "execution_count": null,
   "id": "625c5eb8-8dd6-4ead-9f24-bf2926d6fe1d",
   "metadata": {},
   "outputs": [],
   "source": []
  },
  {
   "cell_type": "code",
   "execution_count": 52,
   "id": "8f41b223-9a2b-4f47-858b-030916782414",
   "metadata": {},
   "outputs": [
    {
     "name": "stdout",
     "output_type": "stream",
     "text": [
      "ANN Final Validation Accuracy: 77.41%\n",
      "RNN Final Validation Accuracy: 70.37%\n",
      "LSTM Final Validation Accuracy: 77.19%\n"
     ]
    }
   ],
   "source": [
    "print(\"ANN Final Validation Accuracy: {:.2f}%\".format(history.history['val_accuracy'][-1] * 100))\n",
    "print(\"RNN Final Validation Accuracy: {:.2f}%\".format(history_rnn.history['val_accuracy'][-1] * 100))\n",
    "print(\"LSTM Final Validation Accuracy: {:.2f}%\".format(history_lstm.history['val_accuracy'][-1] * 100))\n"
   ]
  },
  {
   "cell_type": "markdown",
   "id": "4278d3d8-7797-4360-af32-a1fd52b46312",
   "metadata": {},
   "source": [
    "## Using machine learning algortihm"
   ]
  },
  {
   "cell_type": "code",
   "execution_count": 62,
   "id": "690fc00d-c0ef-4b16-acab-8da1c053ff39",
   "metadata": {},
   "outputs": [],
   "source": [
    "from sklearn.feature_extraction.text import TfidfVectorizer\n",
    "from sklearn.model_selection import train_test_split\n",
    "\n",
    "# Vectorize the clean articles\n",
    "tfidf = TfidfVectorizer(max_features=5000)\n",
    "X_tfidf = tfidf.fit_transform(df['text'])\n",
    "\n",
    "# Labels (use original numerical labels, not one-hot)\n",
    "from sklearn.preprocessing import LabelEncoder\n",
    "le = LabelEncoder()\n",
    "y = le.fit_transform(df['category'])\n",
    "\n",
    "# Train-test split\n",
    "x_train, x_test, y_train, y_test = train_test_split(X_tfidf, y, test_size=0.2, random_state=42)\n"
   ]
  },
  {
   "cell_type": "markdown",
   "id": "b1f2aa25-5997-4ff9-b9f0-86991b32f514",
   "metadata": {},
   "source": [
    "## Logistic Regression"
   ]
  },
  {
   "cell_type": "code",
   "execution_count": 63,
   "id": "8cb68485-56c7-491f-9f09-cb21b87c1760",
   "metadata": {},
   "outputs": [
    {
     "name": "stdout",
     "output_type": "stream",
     "text": [
      "Logistic Regression Accuracy: 79.69%\n",
      "\n",
      "Classification Report:\n",
      "               precision    recall  f1-score   support\n",
      "\n",
      "           0       0.73      0.78      0.75       955\n",
      "           1       0.77      0.78      0.77       985\n",
      "           2       0.86      0.83      0.84      1021\n",
      "           3       0.79      0.77      0.78      1030\n",
      "           4       0.80      0.75      0.78      1034\n",
      "           5       0.85      0.87      0.86       995\n",
      "           6       0.88      0.82      0.85       986\n",
      "           7       0.80      0.80      0.80      1008\n",
      "           8       0.72      0.76      0.74      1009\n",
      "           9       0.79      0.82      0.80       977\n",
      "\n",
      "    accuracy                           0.80     10000\n",
      "   macro avg       0.80      0.80      0.80     10000\n",
      "weighted avg       0.80      0.80      0.80     10000\n",
      "\n",
      "Confusion Matrix:\n",
      " [[744  18  11  13  51  16   7  12  51  32]\n",
      " [ 25 764  10  33  28  38  22  21  22  22]\n",
      " [ 23  18 844  18   6  11  18  40  37   6]\n",
      " [ 26  30  12 791  23  17  25  20  80   6]\n",
      " [ 65  15   4  19 776  21   1  20  18  95]\n",
      " [ 15  33   9  18  10 867   3   9  13  18]\n",
      " [ 22  40  18  16   6   9 812  24  34   5]\n",
      " [ 27  29  38  24   4  18  19 802  25  22]\n",
      " [ 38  24  39  54  15  15  12  33 771   8]\n",
      " [ 38  16   2  15  49  14   5  24  16 798]]\n"
     ]
    }
   ],
   "source": [
    "from sklearn.linear_model import LogisticRegression\n",
    "from sklearn.metrics import classification_report, accuracy_score, confusion_matrix\n",
    "\n",
    "# Train\n",
    "lr_model = LogisticRegression(max_iter=1000)\n",
    "lr_model.fit(x_train, y_train)\n",
    "\n",
    "# Predict\n",
    "y_pred_lr = lr_model.predict(x_test)\n",
    "\n",
    "# Evaluation\n",
    "print(\"Logistic Regression Accuracy: {:.2f}%\".format(accuracy_score(y_test, y_pred_lr) * 100))\n",
    "print(\"\\nClassification Report:\\n\", classification_report(y_test, y_pred_lr))\n",
    "print(\"Confusion Matrix:\\n\", confusion_matrix(y_test, y_pred_lr))\n"
   ]
  },
  {
   "cell_type": "markdown",
   "id": "9cbd660b-1469-42a0-b252-8f6368073d6e",
   "metadata": {},
   "source": [
    "- Logistic Regression Accuracy: 79.69%\n",
    "F1-score: 0.80 (macro avg)\n",
    "\n",
    "- Surprisingly strong performance for a simple model\n",
    "\n",
    "- Low training time and Great for baseline comparison\n",
    "\n"
   ]
  },
  {
   "cell_type": "markdown",
   "id": "d459ec44-8bf1-4247-a25d-9d016623c2a1",
   "metadata": {},
   "source": [
    "## Support vector machine"
   ]
  },
  {
   "cell_type": "code",
   "execution_count": 64,
   "id": "dd3ec687-14b4-43d9-a39b-c46c80f3bcf0",
   "metadata": {},
   "outputs": [
    {
     "name": "stdout",
     "output_type": "stream",
     "text": [
      "SVM Accuracy: 79.58%\n",
      "\n",
      "Classification Report:\n",
      "               precision    recall  f1-score   support\n",
      "\n",
      "           0       0.71      0.79      0.75       955\n",
      "           1       0.75      0.78      0.77       985\n",
      "           2       0.84      0.83      0.83      1021\n",
      "           3       0.78      0.76      0.77      1030\n",
      "           4       0.78      0.73      0.76      1034\n",
      "           5       0.89      0.89      0.89       995\n",
      "           6       0.88      0.83      0.86       986\n",
      "           7       0.81      0.79      0.80      1008\n",
      "           8       0.73      0.76      0.75      1009\n",
      "           9       0.80      0.80      0.80       977\n",
      "\n",
      "    accuracy                           0.80     10000\n",
      "   macro avg       0.80      0.80      0.80     10000\n",
      "weighted avg       0.80      0.80      0.80     10000\n",
      "\n",
      "Confusion Matrix:\n",
      " [[754  21  14  11  53  11   7  11  40  33]\n",
      " [ 30 770  14  33  27  29  23  19  24  16]\n",
      " [ 22  20 843  21   6   7  16  39  41   6]\n",
      " [ 29  38  15 785  20  10  22  20  86   5]\n",
      " [ 78  24   4  19 759  18   2  19  18  93]\n",
      " [ 16  34   7  17   8 881   2  10   8  12]\n",
      " [ 21  41  21  19   7   2 821  20  29   5]\n",
      " [ 28  31  39  26  11   9  19 794  28  23]\n",
      " [ 41  17  49  57  17  11  11  30 770   6]\n",
      " [ 42  24   2  16  60  15   5  18  14 781]]\n"
     ]
    }
   ],
   "source": [
    "from sklearn.svm import SVC\n",
    "\n",
    "# Train\n",
    "svm_model = SVC(kernel='linear')\n",
    "svm_model.fit(x_train, y_train)\n",
    "\n",
    "# Predict\n",
    "y_pred_svm = svm_model.predict(x_test)\n",
    "\n",
    "# Evaluation\n",
    "print(\"SVM Accuracy: {:.2f}%\".format(accuracy_score(y_test, y_pred_svm) * 100))\n",
    "print(\"\\nClassification Report:\\n\", classification_report(y_test, y_pred_svm))\n",
    "print(\"Confusion Matrix:\\n\", confusion_matrix(y_test, y_pred_svm))\n"
   ]
  },
  {
   "cell_type": "markdown",
   "id": "b409291e-72d9-407c-a881-990a735f8aad",
   "metadata": {},
   "source": [
    "- Support Vector Machine (SVM) Accuracy: 79.58%\n",
    "F1-score: 0.80 (macro avg)\n",
    "\n",
    "- Performs on par with Logistic Regression.\n",
    "\n",
    "- Computationally more expensive on large data.\n",
    "\n",
    "- Consistent performance across all classes"
   ]
  },
  {
   "cell_type": "markdown",
   "id": "186f633f-8fbb-4d12-ba6a-d1081fa312ed",
   "metadata": {},
   "source": [
    "# **Project Summary**\n",
    "\n",
    "- Best Performing Model Overall (Validation Accuracy):\n",
    "ANN and LSTM both achieved ~77% on validation data.\n",
    "\n",
    " Worst Performing (Validation Accuracy):\n",
    "RNN overfitting (~70%), indicating limited ability to capture context in this case.\n",
    "\n",
    "- Fastest & Simple Model:\n",
    "Logistic Regression — fast and still gave competitive results.\n",
    "\n",
    "-  Best for Sequential Understanding:\n",
    "LSTM — captures temporal dependencies but at high computational cost.\n",
    "\n",
    "\n",
    "**Final Conclusion**\n",
    "- If we want fast results with minimal setup → Use Logistic Regression or ANN (by slightly fixing overfitting).\n",
    "\n",
    "- If we want to handle complex text relationships with time → Use LSTM.\n",
    "\n",
    "- Avoid basic RNNs unless tuned deeply or used with small datasets.\n"
   ]
  },
  {
   "cell_type": "markdown",
   "id": "00bf73e4-d0e2-4163-a6e6-e7ebe74fa665",
   "metadata": {},
   "source": [
    "# drive video link\n",
    "https://drive.google.com/file/d/1iYfksNFUcuYfzASfjG17f4kF-HfEGAlg/view?usp=sharing"
   ]
  },
  {
   "cell_type": "markdown",
   "id": "d1e40f35-c615-4c07-bcf2-702b3bba963d",
   "metadata": {},
   "source": [
    "# loom video link\n",
    "https://www.loom.com/share/7482a6f3d9c3450eba848a1453c43092?sid=add9d598-913a-4afe-b67b-814fddc9c98c"
   ]
  }
 ],
 "metadata": {
  "kernelspec": {
   "display_name": "Python 3 (ipykernel)",
   "language": "python",
   "name": "python3"
  },
  "language_info": {
   "codemirror_mode": {
    "name": "ipython",
    "version": 3
   },
   "file_extension": ".py",
   "mimetype": "text/x-python",
   "name": "python",
   "nbconvert_exporter": "python",
   "pygments_lexer": "ipython3",
   "version": "3.13.3"
  }
 },
 "nbformat": 4,
 "nbformat_minor": 5
}
